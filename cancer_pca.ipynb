{
 "cells": [
  {
   "cell_type": "markdown",
   "metadata": {},
   "source": [
    "importando bibliotecas"
   ]
  },
  {
   "cell_type": "code",
   "execution_count": null,
   "metadata": {},
   "outputs": [],
   "source": [
    "import pandas as pd \n",
    "import matplotlib.pyplot as plt\n",
    "import numpy as np\n",
    "from sklearn.preprocessing import StandardScaler\n",
    "from sklearn.decomposition import PCA\n",
    "from sklearn.datasets import load_breast_cancer"
   ]
  },
  {
   "cell_type": "markdown",
   "metadata": {},
   "source": [
    "dataframe"
   ]
  },
  {
   "cell_type": "code",
   "execution_count": null,
   "metadata": {},
   "outputs": [],
   "source": [
    "cancer = load_breast_cancer()\n",
    "dt = cancer.data\n",
    "tg = np.reshape(cancer.target,(569,1))\n",
    "final_data = np.concatenate([dt,tg],axis=1)\n",
    "df = pd.DataFrame(final_data)\n",
    "feats = cancer.feature_names\n",
    "feat_label = np.append(feats,\"Diagnosis\")\n",
    "df.columns = feat_label\n",
    "print(df)\n",
    "print(df.shape)"
   ]
  },
  {
   "cell_type": "code",
   "execution_count": null,
   "metadata": {},
   "outputs": [],
   "source": [
    "y = df[\"Diagnosis\"] #classes\n",
    "x = df.drop(\"class\",axis=1) #atributos\n",
    "print(x)"
   ]
  },
  {
   "cell_type": "markdown",
   "metadata": {},
   "source": [
    "escalando os dados"
   ]
  },
  {
   "cell_type": "code",
   "execution_count": null,
   "metadata": {},
   "outputs": [],
   "source": [
    "scale = StandardScaler()\n",
    "scaled_data = scale.fit_transform(x)\n",
    "scaled_data_df = pd.DataFrame(scaled_data,columns=feats)\n",
    "scaled_data_df.describe().round(3)"
   ]
  },
  {
   "cell_type": "markdown",
   "metadata": {},
   "source": [
    "matriz de covariância, autovalores e autovetores"
   ]
  },
  {
   "cell_type": "code",
   "execution_count": null,
   "metadata": {},
   "outputs": [],
   "source": [
    "cov = scaled_data_df.cov()\n",
    "print(cov)\n",
    "autovalores = np.linalg.eigvals(cov)\n",
    "print(autovalores)\n",
    "sorted_array = np.argsort(autovalores)\n",
    "sorted_values = autovalores[sorted_array]\n",
    "rslt = sorted_values[-2: ]\n",
    "print(f\"dois maiores autovalores são: {rslt}\")\n",
    "\n",
    "a,v = np.linalg.eig(cov) #retorna autovalores e os autovetores associados a eles\n",
    "idx = np.argsort(a)[::-1]\n",
    "a = a[idx]\n",
    "v = v[:,idx]"
   ]
  },
  {
   "cell_type": "markdown",
   "metadata": {},
   "source": [
    "fazendo o PCA com 2 componentes principais\n"
   ]
  },
  {
   "cell_type": "code",
   "execution_count": null,
   "metadata": {},
   "outputs": [],
   "source": [
    "pca = PCA(n_components= 2)\n",
    "pca_data = pca.fit_transform(scaled_data_df)\n",
    "pca_df = pd.DataFrame(pca_data,columns= [\"Principal Component 1\",\"Principal Component 2\"])\n",
    "pca_df.shape\n"
   ]
  },
  {
   "cell_type": "code",
   "execution_count": null,
   "metadata": {},
   "outputs": [],
   "source": [
    "print(f\"Variância dos componentes principais 1 e 2, respectivamente: {pca.explained_variance_ratio_}\")"
   ]
  },
  {
   "cell_type": "markdown",
   "metadata": {},
   "source": [
    "plotting: verde para câncer maligno e vermelho para câncer benigno"
   ]
  },
  {
   "cell_type": "code",
   "execution_count": null,
   "metadata": {},
   "outputs": [],
   "source": [
    "\n",
    "plt.figure(figsize=(8,6))\n",
    "plt.xlabel(\"principal component- 1\",fontsize = 16)\n",
    "plt.ylabel(\"principal component - 2\",fontsize = 16)\n",
    "plt.title(\"PCA Breast Cancer\",fontsize= 18)\n",
    "plt.scatter(pca_data[:,0],pca_data[:,1],c=cancer[\"target\"],cmap=\"prism\")\n",
    "\n"
   ]
  },
  {
   "cell_type": "code",
   "execution_count": null,
   "metadata": {},
   "outputs": [],
   "source": [
    "plt.figure(figsize=(8,6))\n",
    "plt.xlabel(\"principal component- 1\",fontsize = 16)\n",
    "plt.ylabel(\"principal component - 2\",fontsize = 16)\n",
    "plt.title(\"PCA Breast Cancer\",fontsize= 18)\n",
    "targets = [\"Malignant\",\"Benign\"]\n",
    "colors = [\"green\",\"red\"]\n",
    "for target, color in zip(targets,colors):\n",
    "    IndicesToKeep = df[\"Diagnosis\"] == target\n",
    "    plt.scatter()"
   ]
  },
  {
   "cell_type": "code",
   "execution_count": null,
   "metadata": {},
   "outputs": [],
   "source": [
    "print(cancer[\"DESCR\"])"
   ]
  }
 ],
 "metadata": {
  "kernelspec": {
   "display_name": "Python 3",
   "language": "python",
   "name": "python3"
  },
  "language_info": {
   "codemirror_mode": {
    "name": "ipython",
    "version": 3
   },
   "file_extension": ".py",
   "mimetype": "text/x-python",
   "name": "python",
   "nbconvert_exporter": "python",
   "pygments_lexer": "ipython3",
   "version": "3.13.0"
  }
 },
 "nbformat": 4,
 "nbformat_minor": 2
}
